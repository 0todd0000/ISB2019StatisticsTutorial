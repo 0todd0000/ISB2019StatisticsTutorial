{
 "cells": [
  {
   "cell_type": "markdown",
   "metadata": {},
   "source": [
    "# Tutorial:   Statistics and Biomechanics  (ISB 2019, Calgary)\n",
    "\n",
    "&copy; Todd Pataky, 2019"
   ]
  },
  {
   "cell_type": "markdown",
   "metadata": {},
   "source": [
    "# Notebook 3:  Validating inferences for univariate 0D data\n",
    "\n",
    "The purposes of this notebook is to demonstrate how probabilities (p values and critical thresholds) from classical hypothesis testing can be numerically validated using random number simulation. This notebook combines concepts from the Notebooks 1 & 2.\n",
    "\n",
    "Note that numerical validation is just one kind of validation, and only suggests validity. The only true validitation exists in the form of mathematical proofs, but this is beyond the scope of these notebooks, and is also unnecessary for understanding the meaning of hypothesis testing's probability results."
   ]
  },
  {
   "cell_type": "markdown",
   "metadata": {},
   "source": [
    "### Part 1:  Numerical validation overview\n",
    "\n",
    "First, let's repeat the example from Notebook 2, Part 2:"
   ]
  },
  {
   "cell_type": "code",
   "execution_count": 1,
   "metadata": {},
   "outputs": [],
   "source": [
    "import numpy as np\n",
    "from scipy import stats\n",
    "from matplotlib import pyplot"
   ]
  },
  {
   "cell_type": "code",
   "execution_count": 2,
   "metadata": {},
   "outputs": [
    {
     "name": "stdout",
     "output_type": "stream",
     "text": [
      "One-sample t test results:  t = 2.314, p = 0.054\n"
     ]
    }
   ],
   "source": [
    "np.random.seed(13)  #seed=13 chosen to obtain a p value close to 0.05\n",
    "J     = 8   #sample size\n",
    "mu    = 80  #true population mean\n",
    "sigma = 10  #true population SD\n",
    "\n",
    "y     = mu + sigma * np.random.randn(J)\n",
    "t,p   = stats.ttest_1samp(y, mu)\n",
    "\n",
    "print('One-sample t test results:  t = %.3f, p = %.3f' %(t,p))"
   ]
  },
  {
   "cell_type": "markdown",
   "metadata": {},
   "source": [
    "We saw in Notebook 2 that the p value can be calculated using the survival function (SF) for the t statistic:"
   ]
  },
  {
   "cell_type": "code",
   "execution_count": 3,
   "metadata": {},
   "outputs": [
    {
     "name": "stdout",
     "output_type": "stream",
     "text": [
      "p value = 0.054\n"
     ]
    }
   ],
   "source": [
    "nu    = J - 1                  #degrees of freedom\n",
    "p     = 2 * stats.t.sf(t, nu)  #two-tailed inference\n",
    "\n",
    "print('p value = %.3f' %p)"
   ]
  },
  {
   "cell_type": "markdown",
   "metadata": {},
   "source": [
    "and that the critical t value ($t^*$) for $\\alpha=0.05$ can be calculated using the inverse survival function (ISF):"
   ]
  },
  {
   "cell_type": "code",
   "execution_count": 4,
   "metadata": {},
   "outputs": [
    {
     "name": "stdout",
     "output_type": "stream",
     "text": [
      "Critical t value = 2.365\n"
     ]
    }
   ],
   "source": [
    "alpha = 0.05\n",
    "tstar = stats.t.isf(0.5*alpha, nu)  #two-tailed inference\n",
    "\n",
    "print('Critical t value = %.3f' %tstar)"
   ]
  },
  {
   "cell_type": "markdown",
   "metadata": {},
   "source": [
    "How do we know that these results (the p value and the critical t value) are valid?\n",
    "\n",
    "One way to check is to study the mathematical proofs underlying the SF and ISF. However, these are often complex, and are not essential for conceptual understanding of the p value and the critical value.\n",
    "\n",
    "A much easier way, albeit computationally intensive, is to simulate a large number of experiments involving random data. Let's try simulating 100 experiments involving random samples of Gaussian data, then calculate the one-sample t value for each experiment:"
   ]
  },
  {
   "cell_type": "code",
   "execution_count": 5,
   "metadata": {},
   "outputs": [
    {
     "name": "stdout",
     "output_type": "stream",
     "text": [
      "[ 2.28727718  2.61448298 -0.28751207  1.26000372 -0.43998279 -1.03830386\n",
      " -1.74097105 -2.41399056 -0.63419779 -0.96164573  0.86696825  1.36432026\n",
      "  0.74012771  1.56930843  1.58319717  0.51872408  0.13789134 -0.25433598\n",
      "  0.91442326 -1.86829021 -0.13237545  1.17044179 -3.32231845 -0.73468587\n",
      "  1.48177172 -0.23956841  0.20591739  0.47442451 -1.97911291  0.00782143\n",
      " -0.46991291 -0.50542903 -2.65062863 -1.08553353  0.44759941  1.08280654\n",
      "  0.95842236  0.08104508 -0.38686702 -2.27384513 -0.49297791 -0.72287213\n",
      " -0.49111254 -1.20348658 -0.99220541  1.21425073 -0.50040909 -1.43737206\n",
      " -0.6141395   0.425362   -0.42915672  0.08313489  0.99040637 -1.2502834\n",
      "  1.27508344 -0.61532399  0.72937794 -1.93447032 -1.07806863  1.36470589\n",
      "  0.19240962  1.15283996 -0.57092893 -0.4902151  -0.06082458 -0.6745197\n",
      " -1.01271785 -0.22250074 -0.45261723 -0.9417392   0.2668002   0.08055645\n",
      " -1.33073522 -0.99383694 -1.58428886 -2.42107811 -0.58926657  0.04274224\n",
      " -0.25716088  0.74400568  0.27463195  0.13542511 -2.3128741  -1.3823026\n",
      " -0.10934248 -0.18087888  0.23010613 -0.79741779  1.91797081 -0.24588591\n",
      " -1.36837489 -0.30310849 -0.83212658 -0.63492907  0.49312978  0.05676671\n",
      " -0.58652443 -0.27400056 -0.33661122 -1.58943497]\n"
     ]
    }
   ],
   "source": [
    "np.random.seed(0)\n",
    "niter  = 100\n",
    "t      = np.empty(niter)\n",
    "for i in range(niter):\n",
    "    y    = mu + sigma * np.random.randn(J)              #random sample\n",
    "    t[i] = ( y.mean() - mu ) / y.std(ddof=1) * J**0.5   #t statistic (see Notebook 2, Part 2)\n",
    "\n",
    "print(t)"
   ]
  },
  {
   "cell_type": "markdown",
   "metadata": {},
   "source": [
    "We now have one t value for each simulated experiment. These t values form a distribution:"
   ]
  },
  {
   "cell_type": "code",
   "execution_count": 6,
   "metadata": {},
   "outputs": [
    {
     "data": {
      "image/png": "[encoded data removed]",
      "text/plain": [
       "<Figure size 432x288 with 1 Axes>"
      ]
     },
     "metadata": {
      "needs_background": "light"
     },
     "output_type": "display_data"
    }
   ],
   "source": [
    "ax = pyplot.axes()\n",
    "ax.hist(t, bins=11, density=True)\n",
    "pyplot.show()"
   ]
  },
  {
   "cell_type": "markdown",
   "metadata": {},
   "source": [
    "Note the p value from the t test above represents $P(t>u)$, where $u$ is the t value from the original dataset. To calculate the analogous p value using the t distribution we just constructed through simulation, we simply need to calculate the proportion of experiments whose t values exceed the t value from the original dataset:"
   ]
  },
  {
   "cell_type": "code",
   "execution_count": 7,
   "metadata": {},
   "outputs": [
    {
     "name": "stdout",
     "output_type": "stream",
     "text": [
      "0.05\n"
     ]
    }
   ],
   "source": [
    "#proportion of simulated experiments with absolute t values greater than 2.314:\n",
    "p = ( np.abs(t) > 2.314 ).sum() / niter\n",
    "\n",
    "print( p )"
   ]
  },
  {
   "cell_type": "markdown",
   "metadata": {},
   "source": [
    "This is close to the p value computed above, but since we have only simulated 100 iterations, the best resolution we can get is 0.01. Let's try simulating 10,000 iterations and re-calculating:"
   ]
  },
  {
   "cell_type": "code",
   "execution_count": 8,
   "metadata": {},
   "outputs": [
    {
     "name": "stdout",
     "output_type": "stream",
     "text": [
      "0.0553\n"
     ]
    },
    {
     "data": {
      "image/png": "[encoded data removed]",
      "text/plain": [
       "<Figure size 432x288 with 1 Axes>"
      ]
     },
     "metadata": {
      "needs_background": "light"
     },
     "output_type": "display_data"
    }
   ],
   "source": [
    "np.random.seed(0)\n",
    "niter  = 10000\n",
    "t      = np.empty(niter)\n",
    "for i in range(niter):\n",
    "    y    = mu + sigma * np.random.randn(J)              #random sample\n",
    "    t[i] = ( y.mean() - mu ) / y.std(ddof=1) * J**0.5   #t statistic (see Notebook 2, Part 2)\n",
    "\n",
    "p = ( np.abs(t) > 2.314 ).sum() / niter\n",
    "print( p )\n",
    "\n",
    "ax = pyplot.axes()\n",
    "ax.hist(t, bins=21, density=True)\n",
    "pyplot.show()"
   ]
  },
  {
   "cell_type": "markdown",
   "metadata": {},
   "source": [
    "We now have a more completely defined distribution, and the p value we calculated using it is slightly closer to the p value reported above.\n",
    "\n",
    "How about the critical threshold?  We can use the 95th percentile (or the 97.5th perentile for two-tailed inference) of the the simulated t distribution to calculate the critical threshold as follows:"
   ]
  },
  {
   "cell_type": "code",
   "execution_count": 9,
   "metadata": {},
   "outputs": [
    {
     "name": "stdout",
     "output_type": "stream",
     "text": [
      "2.360532562962218\n"
     ]
    }
   ],
   "source": [
    "tstar   = np.percentile(t, 100*(1-0.5*alpha))\n",
    "print(tstar)"
   ]
  },
  {
   "cell_type": "markdown",
   "metadata": {},
   "source": [
    "Like the p value, the critical threshold is quite close to the one computed analytically above (using the ISF)."
   ]
  },
  {
   "cell_type": "markdown",
   "metadata": {},
   "source": [
    "___\n",
    "\n",
    "### Part 2:  Systematic numerical validation\n",
    "\n",
    "Above we verified just two values (the p value and the critical t value) for a single data set. This suggests that the analytical results from the SF and ISF are likely valid, but it is usually important to numerically validate: both (a) the entire SF, and (b) the entire ISF, over a range of parameter values.\n",
    "\n",
    "For the one-sample t test this means changing the sample size and validing the entire SF and the entire ISF for each sample size.  First let's try just one sample size ($J=5$), and let's use one-tailed inference for simplicity:"
   ]
  },
  {
   "cell_type": "code",
   "execution_count": 10,
   "metadata": {},
   "outputs": [
    {
     "data": {
      "image/png": "[encoded data removed]",
      "text/plain": [
       "<Figure size 432x288 with 1 Axes>"
      ]
     },
     "metadata": {
      "needs_background": "light"
     },
     "output_type": "display_data"
    }
   ],
   "source": [
    "np.random.seed(0)\n",
    "J      = 5\n",
    "niter  = 10000\n",
    "t      = np.empty(niter)\n",
    "for i in range(niter):\n",
    "    y    = mu + sigma * np.random.randn(J)              #random sample\n",
    "    t[i] = ( y.mean() - mu ) / y.std(ddof=1) * J**0.5   #t statistic (see Notebook 2, Part 2)\n",
    "\n",
    "\n",
    "u0     = np.linspace(0, 5, 51)  #thresholds for the parametric (analytical) SF\n",
    "u1     = np.linspace(0, 5, 11)  #thresholds for the numerical SF\n",
    "\n",
    "nu     = J - 1\n",
    "sf0    = stats.t.sf(u0, nu)            #theoretical SF\n",
    "sf1    = [(t>uu).mean() for uu in u1]  #numerical SF (from simulation)\n",
    "\n",
    "\n",
    "ax = pyplot.axes()\n",
    "ax.plot(u0, sf0, '-', label='Theoretical')\n",
    "ax.plot(u1, sf1, 'o', label='Simulation')\n",
    "ax.set_xlabel('u')\n",
    "ax.set_ylabel('SF')\n",
    "ax.legend()\n",
    "pyplot.show()"
   ]
  },
  {
   "cell_type": "markdown",
   "metadata": {},
   "source": [
    "We can see that the numerical results closely mirror the theoretical results, suggesting that the entire theoretical SF is valid.\n",
    "\n",
    "Let's repeat for the critical threshold using the ISF:"
   ]
  },
  {
   "cell_type": "code",
   "execution_count": 11,
   "metadata": {},
   "outputs": [
    {
     "data": {
      "image/png": "[encoded data removed]",
      "text/plain": [
       "<Figure size 432x288 with 1 Axes>"
      ]
     },
     "metadata": {
      "needs_background": "light"
     },
     "output_type": "display_data"
    }
   ],
   "source": [
    "np.random.seed(0)\n",
    "J      = 5\n",
    "niter  = 10000\n",
    "t      = np.empty(niter)\n",
    "for i in range(niter):\n",
    "    y    = mu + sigma * np.random.randn(J)              #random sample\n",
    "    t[i] = ( y.mean() - mu ) / y.std(ddof=1) * J**0.5   #t statistic (see Notebook 2, Part 2)\n",
    "\n",
    "\n",
    "p0     = np.linspace(0.2, 0.005, 51)  #p values for the parametric (analytical) ISF\n",
    "p1     = np.linspace(0.2, 0.005, 11)  #p values for the numerical ISF\n",
    "\n",
    "nu     = J - 1\n",
    "sf0    = stats.t.isf(p0, nu)            #theoretical ISF\n",
    "sf1    = np.percentile(t, 100*(1-p1))   #numerical ISF (from simulation)\n",
    "\n",
    "\n",
    "ax = pyplot.axes()\n",
    "ax.plot(p0, sf0, '-', label='Theoretical')\n",
    "ax.plot(p1, sf1, 'o', label='Simulation')\n",
    "ax.set_xlabel('p')\n",
    "ax.set_ylabel('Critical threshold')\n",
    "ax.legend()\n",
    "pyplot.show()"
   ]
  },
  {
   "cell_type": "markdown",
   "metadata": {},
   "source": [
    "Last, let's change the sample size systematically and repeat. For brevity, we'll only check the SF"
   ]
  },
  {
   "cell_type": "code",
   "execution_count": 12,
   "metadata": {},
   "outputs": [
    {
     "data": {
      "image/png": "[encoded data removed]",
      "text/plain": [
       "<Figure size 432x288 with 1 Axes>"
      ]
     },
     "metadata": {
      "needs_background": "light"
     },
     "output_type": "display_data"
    }
   ],
   "source": [
    "np.random.seed(0)\n",
    "JJ     = [5, 8, 25]\n",
    "nJ     = len(JJ)\n",
    "niter  = 10000\n",
    "t      = np.empty((nJ, niter))\n",
    "for i,J in enumerate(JJ):\n",
    "    for ii in range(niter):\n",
    "        y       = mu + sigma * np.random.randn(J)\n",
    "        t[i,ii] = ( y.mean() - mu ) / y.std(ddof=1) * J**0.5\n",
    "\n",
    "u0     = np.linspace(0, 5, 51)  #thresholds for the parametric (analytical) SF\n",
    "u1     = np.linspace(0, 5, 11)  #thresholds for the numerical SF\n",
    "\n",
    "nu     = J - 1\n",
    "sf0    = np.array( [stats.t.sf(u0, J-1) for J in JJ] )\n",
    "sf1    = np.array( [[(tt>uu).mean() for uu in u1] for tt in t] )\n",
    "\n",
    "\n",
    "ax     = pyplot.axes()\n",
    "colors = 'r', 'g', 'b'\n",
    "for J,c,f0,f1 in zip(JJ, colors, sf0, sf1):\n",
    "    ax.plot(u0, f0, '-', color=c, label='Theoretical (J=%d)'%J)\n",
    "    ax.plot(u1, f1, 'o', color=c, label='Simulation')\n",
    "ax.set_xlabel('u')\n",
    "ax.set_ylabel('SF')\n",
    "ax.legend()\n",
    "ax.set_ylim(0, 0.1)    #zoom in to clarify the differences\n",
    "pyplot.show()"
   ]
  },
  {
   "cell_type": "markdown",
   "metadata": {},
   "source": [
    "___\n",
    "### Summary:\n",
    "\n",
    "This notebook has shown how to numerically validate probability values and critical threshold from hypothesis testing. These validations clarify that p values and critical thresholds pertain to the infinite set of experiments, and not to a specific experiment.\n",
    "\n",
    "While useful for testing the thoeretical predictions of parametric distributions and probability functions, numerical simulation itself does not constitute validation. Mathematical proofs are required to validate probability functions, but this is beyond the scope of these notebooks."
   ]
  }
 ],
 "metadata": {
  "kernelspec": {
   "display_name": "Python 3",
   "language": "python",
   "name": "python3"
  },
  "language_info": {
   "codemirror_mode": {
    "name": "ipython",
    "version": 3
   },
   "file_extension": ".py",
   "mimetype": "text/x-python",
   "name": "python",
   "nbconvert_exporter": "python",
   "pygments_lexer": "ipython3",
   "version": "3.6.8"
  }
 },
 "nbformat": 4,
 "nbformat_minor": 2
}
